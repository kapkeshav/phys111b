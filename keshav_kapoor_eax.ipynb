{
 "cells": [
  {
   "cell_type": "code",
   "execution_count": 1,
   "metadata": {},
   "outputs": [],
   "source": [
    "\"\"\"\n",
    "Keshav Kapoor\n",
    "Physics 111B\n",
    "\n",
    "Error Analysis Exercise\n",
    "\"\"\"\n",
    "import numpy as np\n",
    "import random\n",
    "import matplotlib.pyplot as plt\n",
    "from scipy.stats import chi2\n",
    "from scipy.stats import chisquare\n",
    "from scipy.stats import norm\n",
    "from scipy.optimize import curve_fit\n",
    "from sklearn.preprocessing import normalize"
   ]
  },
  {
   "cell_type": "markdown",
   "metadata": {},
   "source": [
    "# Problem 1\n",
    "\n",
    "We know that the error is given by $1/\\sqrt{N}$ where $N$ is the number of events. We want the error to be $0.05$, so wee get the following:\n",
    "\n",
    "$$ 1/\\sqrt{N} = 0.05 \\implies N = 400$$\n",
    "\n",
    "Since it takes 3 minutes to get 1800 counts, we get 10 counts per second, from here:\n",
    "\n",
    "$$t = N\\times \\frac{1}{rate}=400\\times\\frac{1}{10}\\frac{Seconds}{Event} = 66.\\bar{6}\\,Seconds \\approx 67 \\,Seconds$$"
   ]
  },
  {
   "cell_type": "markdown",
   "metadata": {},
   "source": [
    "# Problem 2\n",
    "\n",
    "## 1\n",
    "\n",
    "### a\n",
    "\n",
    "\\begin{equation}\n",
    " \\sigma_{\\Gamma} = \\sqrt{\\frac{d\\Gamma}{dR}\\sigma_{R}^2 + \\frac{d\\Gamma}{dC}\\sigma_{C}^2} = \\sqrt{\\sigma_{R}^2 + \\sigma_{C}^2}\n",
    "\\end{equation}\n",
    "\n",
    "### b \n",
    "\n",
    "$$G_F = \\left(\\frac{192 R \\pi^3 \\hbar^7}{m^5c^4}\\right)^{1/2}$$\n",
    "\n",
    "\\begin{equation}\n",
    "\\frac{dG_f}{dR} = \\frac{1}{2}\\left(\\frac{192 R \\pi^3 \\hbar^7}{m^5c^4}\\right)^{-1/2}\n",
    "\\end{equation}\n",
    "\n",
    "\\begin{equation}\n",
    "\\frac{dG_f}{dm} = \\frac{1}{2}\\left(\\frac{192 R \\pi^3 \\hbar^7}{m^5c^4}\\right)^{-1/2}\\left(\\frac{-5}{m^6}\\right)\n",
    "\\end{equation}\n",
    "\n",
    "\\begin{equation}\n",
    "\\frac{dG_f}{dc} = \\frac{1}{2}\\left(\\frac{192 R \\pi^3 \\hbar^7}{m^5c^4}\\right)^{-1/2}\\left(\\frac{-4}{c^6}\\right)\n",
    "\\end{equation}\n",
    "\n",
    "\\begin{equation}\n",
    "\\frac{dG_f}{dc} = \\frac{1}{2}\\left(\\frac{192 R \\pi^3 \\hbar^7}{m^5c^4}\\right)^{-1/2}\\left(7h^6\\right)\n",
    "\\end{equation}\n",
    "\n",
    "\\begin{equation}\n",
    "\\sigma_{G_f} = \\sqrt{\\frac{1}{2}\\left(\\frac{192 R \\pi^3 \\hbar^7}{m^5c^4}\\right)^{-1/2}\\left(\\sigma_R^2 + \\left(\\frac{-5}{m^6}\\right)\\sigma_m^2 + \\left(\\frac{-4}{c^5}\\right)\\sigma_c^2 + 7h^6\\sigma_h^2\\right)}\n",
    "\\end{equation}\n",
    "\n",
    "## 2\n",
    "\n",
    "Since the errors get scaled logarithmically, they are lopsided. The bottom will be longer than the top error bar. We go from $y_i \\pm \\delta$ to $log(y_i \\pm \\delta)$ from there we can see that we get $log(y_i)log(\\delta)$ as an upperbound and $log(y_i)/log(\\delta)$ as a lowerbound. If $y_i$ is large, especially comapred to $\\delta$, we will see error bars which are significantly longer lowerbounds on the log scale.\n",
    "\n",
    "## 3\n",
    "\n",
    "$E_0 = 1258.9254$. With the lowerbound: $E_0 = 1258.9254*10^{-2.3} = 6.3096$. With the upperbound: $E_0 = 1258.9254*10^{2.3} = 251188.6432$"
   ]
  },
  {
   "cell_type": "markdown",
   "metadata": {},
   "source": [
    "# Problem 3"
   ]
  },
  {
   "cell_type": "markdown",
   "metadata": {},
   "source": [
    "## 1"
   ]
  },
  {
   "cell_type": "code",
   "execution_count": 2,
   "metadata": {},
   "outputs": [],
   "source": [
    "def dice(n):\n",
    "    scores = []\n",
    "    for _ in range(n):\n",
    "        scores.append(random.randint(1,6))\n",
    "    return scores"
   ]
  },
  {
   "cell_type": "markdown",
   "metadata": {},
   "source": [
    "## 2"
   ]
  },
  {
   "cell_type": "code",
   "execution_count": 3,
   "metadata": {},
   "outputs": [],
   "source": [
    "scores = dice(500)"
   ]
  },
  {
   "cell_type": "code",
   "execution_count": 4,
   "metadata": {},
   "outputs": [
    {
     "data": {
      "text/plain": [
       "<BarContainer object of 10 artists>"
      ]
     },
     "execution_count": 4,
     "metadata": {},
     "output_type": "execute_result"
    },
    {
     "data": {
      "image/png": "[encoded data removed]",
      "text/plain": [
       "<Figure size 432x288 with 1 Axes>"
      ]
     },
     "metadata": {},
     "output_type": "display_data"
    }
   ],
   "source": [
    "plt.bar([1,1.5,2,2.5,3,3.5,4,4.5,5,6],normalize([np.histogram(scores)[0]])[0])"
   ]
  },
  {
   "cell_type": "code",
   "execution_count": 5,
   "metadata": {},
   "outputs": [
    {
     "name": "stdout",
     "output_type": "stream",
     "text": [
      "The mean is: 3.5\n",
      "The std. dev is: 1.750999714448863\n"
     ]
    }
   ],
   "source": [
    "print(\"The mean is: {}\".format(np.average(scores)))\n",
    "print(\"The std. dev is: {}\".format(np.std(scores)))"
   ]
  },
  {
   "cell_type": "markdown",
   "metadata": {},
   "source": [
    "Since we have only one die, the standard deviation of the central limit theorem and the standard deviation here match."
   ]
  },
  {
   "cell_type": "markdown",
   "metadata": {},
   "source": [
    "## 3"
   ]
  },
  {
   "cell_type": "code",
   "execution_count": 6,
   "metadata": {},
   "outputs": [],
   "source": [
    "Ns = [2,4,6,8,10]\n",
    "tot_score = []\n",
    "for n in Ns:\n",
    "    s = []\n",
    "    for _ in range(500):\n",
    "        s.append(sum(dice(n)))\n",
    "    tot_score.append(s)"
   ]
  },
  {
   "cell_type": "code",
   "execution_count": 7,
   "metadata": {},
   "outputs": [
    {
     "data": {
      "image/png": "[encoded data removed]",
      "text/plain": [
       "<Figure size 432x288 with 1 Axes>"
      ]
     },
     "metadata": {},
     "output_type": "display_data"
    },
    {
     "name": "stdout",
     "output_type": "stream",
     "text": [
      "The mean is: 6.93\n",
      "The std. dev is: 2.4060548622174016\n"
     ]
    }
   ],
   "source": [
    "plt.hist(tot_score[0])\n",
    "plt.title('N=2')\n",
    "plt.show()\n",
    "print(\"The mean is: {}\".format(np.average(tot_score[0])))\n",
    "print(\"The std. dev is: {}\".format(np.std(tot_score[0])))"
   ]
  },
  {
   "cell_type": "code",
   "execution_count": 8,
   "metadata": {},
   "outputs": [
    {
     "data": {
      "image/png": "[encoded data removed]",
      "text/plain": [
       "<Figure size 432x288 with 1 Axes>"
      ]
     },
     "metadata": {},
     "output_type": "display_data"
    },
    {
     "name": "stdout",
     "output_type": "stream",
     "text": [
      "The mean is: 13.872\n",
      "The std. dev is: 3.279575582297197\n"
     ]
    }
   ],
   "source": [
    "plt.hist(tot_score[1])\n",
    "plt.title('N=4')\n",
    "plt.show()\n",
    "print(\"The mean is: {}\".format(np.average(tot_score[1])))\n",
    "print(\"The std. dev is: {}\".format(np.std(tot_score[1])))"
   ]
  },
  {
   "cell_type": "code",
   "execution_count": 9,
   "metadata": {},
   "outputs": [
    {
     "data": {
      "image/png": "[encoded data removed]",
      "text/plain": [
       "<Figure size 432x288 with 1 Axes>"
      ]
     },
     "metadata": {},
     "output_type": "display_data"
    },
    {
     "name": "stdout",
     "output_type": "stream",
     "text": [
      "The mean is: 20.736\n",
      "The std. dev is: 4.231111437908484\n"
     ]
    }
   ],
   "source": [
    "plt.hist(tot_score[2])\n",
    "plt.title('N=6')\n",
    "plt.show()\n",
    "print(\"The mean is: {}\".format(np.average(tot_score[2])))\n",
    "print(\"The std. dev is: {}\".format(np.std(tot_score[2])))"
   ]
  },
  {
   "cell_type": "code",
   "execution_count": 10,
   "metadata": {},
   "outputs": [
    {
     "data": {
      "image/png": "[encoded data removed]",
      "text/plain": [
       "<Figure size 432x288 with 1 Axes>"
      ]
     },
     "metadata": {},
     "output_type": "display_data"
    },
    {
     "name": "stdout",
     "output_type": "stream",
     "text": [
      "The mean is: 28.196\n",
      "The std. dev is: 4.856499150622803\n"
     ]
    }
   ],
   "source": [
    "plt.hist(tot_score[3])\n",
    "plt.title('N=8')\n",
    "plt.show()\n",
    "print(\"The mean is: {}\".format(np.average(tot_score[3])))\n",
    "print(\"The std. dev is: {}\".format(np.std(tot_score[3])))"
   ]
  },
  {
   "cell_type": "code",
   "execution_count": 11,
   "metadata": {},
   "outputs": [
    {
     "data": {
      "image/png": "[encoded data removed]",
      "text/plain": [
       "<Figure size 432x288 with 1 Axes>"
      ]
     },
     "metadata": {},
     "output_type": "display_data"
    },
    {
     "name": "stdout",
     "output_type": "stream",
     "text": [
      "The mean is: 34.876\n",
      "The std. dev is: 5.606123794566081\n"
     ]
    }
   ],
   "source": [
    "plt.hist(tot_score[4])\n",
    "plt.title('N=10')\n",
    "plt.show()\n",
    "print(\"The mean is: {}\".format(np.average(tot_score[4])))\n",
    "print(\"The std. dev is: {}\".format(np.std(tot_score[4])))"
   ]
  },
  {
   "cell_type": "markdown",
   "metadata": {},
   "source": [
    "## 4"
   ]
  },
  {
   "cell_type": "code",
   "execution_count": 12,
   "metadata": {},
   "outputs": [
    {
     "data": {
      "text/plain": [
       "Text(0.5,0,'N')"
      ]
     },
     "execution_count": 12,
     "metadata": {},
     "output_type": "execute_result"
    },
    {
     "data": {
      "image/png": "[encoded data removed]",
      "text/plain": [
       "<Figure size 432x288 with 1 Axes>"
      ]
     },
     "metadata": {},
     "output_type": "display_data"
    }
   ],
   "source": [
    "plt.plot(Ns,[np.std(s) for s in tot_score],ls=\"--\",marker=\"o\")\n",
    "plt.ylabel(\"Standard Deviation\")\n",
    "plt.xlabel('N')"
   ]
  },
  {
   "cell_type": "markdown",
   "metadata": {},
   "source": [
    "The Central Limit Theorem states that the sample standard deviation is equal to the population standard deviation devided by the square root of the number of samples. This implies that $\\sigma = \\sqrt{N}\\sigma_X$. We can see that this holds pretty well in the graph below"
   ]
  },
  {
   "cell_type": "code",
   "execution_count": 13,
   "metadata": {},
   "outputs": [
    {
     "data": {
      "text/plain": [
       "<matplotlib.legend.Legend at 0x124cb6b00>"
      ]
     },
     "execution_count": 13,
     "metadata": {},
     "output_type": "execute_result"
    },
    {
     "data": {
      "image/png": "[encoded data removed]",
      "text/plain": [
       "<Figure size 432x288 with 1 Axes>"
      ]
     },
     "metadata": {},
     "output_type": "display_data"
    }
   ],
   "source": [
    "plt.plot(Ns,[np.std(s) for s in tot_score],ls=\"--\",marker=\"o\",label=\"Simulated\")\n",
    "plt.plot(Ns,[np.sqrt(N)*(1.6364547045366091) for N in Ns],ls=\"-\",label=\"Theory\")\n",
    "plt.ylabel(\"Standard Deviation\")\n",
    "plt.xlabel('N')\n",
    "plt.legend()"
   ]
  },
  {
   "cell_type": "markdown",
   "metadata": {},
   "source": [
    "# Problem 4"
   ]
  },
  {
   "cell_type": "markdown",
   "metadata": {},
   "source": [
    "## 1"
   ]
  },
  {
   "cell_type": "code",
   "execution_count": 14,
   "metadata": {},
   "outputs": [],
   "source": [
    "data = np.loadtxt('peak.dat')"
   ]
  },
  {
   "cell_type": "code",
   "execution_count": 15,
   "metadata": {},
   "outputs": [],
   "source": [
    "nums, bins = np.histogram(data,bins=40)\n",
    "menStd     = np.sqrt(nums)\n",
    "bincenters = 0.5*(bins[1:]+bins[:-1])\n",
    "width = 0.015"
   ]
  },
  {
   "cell_type": "code",
   "execution_count": 16,
   "metadata": {},
   "outputs": [
    {
     "data": {
      "image/png": "[encoded data removed]",
      "text/plain": [
       "<Figure size 432x288 with 1 Axes>"
      ]
     },
     "metadata": {},
     "output_type": "display_data"
    }
   ],
   "source": [
    "plt.bar(bincenters, nums, width=width, color='b', yerr=menStd, ecolor=\"r\",capsize=0.1)\n",
    "plt.ylabel(\"Number of events\")\n",
    "plt.xlabel(\"Energy\")\n",
    "plt.show()"
   ]
  },
  {
   "cell_type": "markdown",
   "metadata": {},
   "source": [
    "## 2"
   ]
  },
  {
   "cell_type": "code",
   "execution_count": 17,
   "metadata": {},
   "outputs": [
    {
     "data": {
      "text/plain": [
       "0.2836715015789403"
      ]
     },
     "execution_count": 17,
     "metadata": {},
     "output_type": "execute_result"
    }
   ],
   "source": [
    "s = 0\n",
    "err = 0\n",
    "for i in range(len(nums)):\n",
    "    if nums[i] != 0:\n",
    "        err += menStd[i] * ((bins[i] + bins[i+1]) / 2)\n",
    "    s += nums[i] * ((bins[i] + bins[i+1]) / 2)\n",
    "mean = s / np.sum(nums)\n",
    "err = err/np.sum(nums)\n",
    "t = 0\n",
    "ts = 0\n",
    "for i in range(len(nums)):\n",
    "    t += nums[i]*(bins[i] - mean)**2\n",
    "    ts += menStd[i]*(bins[i] - mean)**2\n",
    "std = np.sqrt(t / np.sum(nums))\n",
    "stde = np.sqrt(ts / np.sum(nums))\n",
    "err"
   ]
  },
  {
   "cell_type": "code",
   "execution_count": 18,
   "metadata": {},
   "outputs": [
    {
     "name": "stdout",
     "output_type": "stream",
     "text": [
      "The mean is 1.7023707326927495 +/- 0.2836715015789403\n",
      "The std. dev is 0.10509442875409117 +/- 0.05605445832091555\n"
     ]
    }
   ],
   "source": [
    "print(\"The mean is {} +/- {}\".format(mean, err))\n",
    "print(\"The std. dev is {} +/- {}\".format(std,stde))"
   ]
  },
  {
   "cell_type": "markdown",
   "metadata": {},
   "source": [
    "## 3\n",
    "\n",
    "We can see that both the mean and standard deviation are almost the exact same in each."
   ]
  },
  {
   "cell_type": "code",
   "execution_count": 19,
   "metadata": {},
   "outputs": [
    {
     "data": {
      "text/plain": [
       "(1.7025749465, 0.1046951876770005)"
      ]
     },
     "execution_count": 19,
     "metadata": {},
     "output_type": "execute_result"
    }
   ],
   "source": [
    "norm.fit(data)"
   ]
  },
  {
   "cell_type": "markdown",
   "metadata": {},
   "source": [
    "## 4"
   ]
  },
  {
   "cell_type": "markdown",
   "metadata": {},
   "source": [
    "We can see from below that the mean of this fit is very close to the mean we obtained in parts 2 and 3, and falls within the error for part 2. However, the standard deviation is an order of magnitude away from the values we obtained in parts 2 and 3."
   ]
  },
  {
   "cell_type": "code",
   "execution_count": 20,
   "metadata": {},
   "outputs": [],
   "source": [
    "def gaus(x,c,s):\n",
    "    return (1/(s*np.sqrt(2*np.pi)))*np.exp(-(x-c)**2/(2*s**2))\n",
    "    "
   ]
  },
  {
   "cell_type": "code",
   "execution_count": 21,
   "metadata": {},
   "outputs": [
    {
     "name": "stdout",
     "output_type": "stream",
     "text": [
      "1.6906479319976564 0.016232982717663776\n"
     ]
    }
   ],
   "source": [
    "c,s = curve_fit(gaus,bincenters,nums)[0]\n",
    "print(c,s)"
   ]
  },
  {
   "cell_type": "markdown",
   "metadata": {},
   "source": [
    "## 5"
   ]
  },
  {
   "cell_type": "markdown",
   "metadata": {},
   "source": [
    "We get a relatively high reduced $\\chi^2$ value, which is indictive of a poor model fit. I believe the discrepencies in the standard deviation are the cause for this. "
   ]
  },
  {
   "cell_type": "code",
   "execution_count": 22,
   "metadata": {},
   "outputs": [
    {
     "data": {
      "text/plain": [
       "9.619853514024115"
      ]
     },
     "execution_count": 22,
     "metadata": {},
     "output_type": "execute_result"
    }
   ],
   "source": [
    "chisquare([gaus(x,c,s) for x in np.linspace(1,2,1000)],data)[0]/len(data-1)"
   ]
  },
  {
   "cell_type": "markdown",
   "metadata": {},
   "source": [
    "## Problem 5"
   ]
  },
  {
   "cell_type": "markdown",
   "metadata": {},
   "source": [
    "## 1"
   ]
  },
  {
   "cell_type": "code",
   "execution_count": 23,
   "metadata": {},
   "outputs": [],
   "source": [
    "I = [0.2*n for n in range(11)]"
   ]
  },
  {
   "cell_type": "code",
   "execution_count": 24,
   "metadata": {},
   "outputs": [],
   "source": [
    "freq = [0.14,0.6,1.21,1.94,2.47,3.07,3.83,4.16,4.68,5.60,6.31]"
   ]
  },
  {
   "cell_type": "code",
   "execution_count": 25,
   "metadata": {},
   "outputs": [
    {
     "data": {
      "text/plain": [
       "Text(0.5,0,'Frequency (MHz)')"
      ]
     },
     "execution_count": 25,
     "metadata": {},
     "output_type": "execute_result"
    },
    {
     "data": {
      "image/png": "[encoded data removed]",
      "text/plain": [
       "<Figure size 432x288 with 1 Axes>"
      ]
     },
     "metadata": {},
     "output_type": "display_data"
    }
   ],
   "source": [
    "plt.plot(I,freq,ls=\"--\",marker=\"o\")\n",
    "plt.ylabel(\"Current (A)\")\n",
    "plt.xlabel(\"Frequency (MHz)\")"
   ]
  },
  {
   "cell_type": "code",
   "execution_count": 26,
   "metadata": {},
   "outputs": [],
   "source": [
    "def f(x,a,b):\n",
    "    return a*x + b"
   ]
  },
  {
   "cell_type": "code",
   "execution_count": 27,
   "metadata": {},
   "outputs": [],
   "source": [
    "a,b = curve_fit(f,I,freq)[0]"
   ]
  },
  {
   "cell_type": "code",
   "execution_count": 28,
   "metadata": {},
   "outputs": [
    {
     "data": {
      "text/plain": [
       "<matplotlib.legend.Legend at 0x126fd33c8>"
      ]
     },
     "execution_count": 28,
     "metadata": {},
     "output_type": "execute_result"
    },
    {
     "data": {
      "image/png": "[encoded data removed]",
      "text/plain": [
       "<Figure size 432x288 with 1 Axes>"
      ]
     },
     "metadata": {},
     "output_type": "display_data"
    }
   ],
   "source": [
    "x=np.linspace(0,2)\n",
    "plt.plot(I,freq,ls=\"--\",marker=\"o\",label=\"Experimental\")\n",
    "plt.plot(x,[f(p,a,b) for p in x],ls=\"-\",marker=\"\",label=\"Line of Best Fit\")\n",
    "plt.ylabel(\"Current (A)\")\n",
    "plt.xlabel(\"Frequency (MHz)\")\n",
    "plt.legend()"
   ]
  },
  {
   "cell_type": "markdown",
   "metadata": {},
   "source": [
    "## 2"
   ]
  },
  {
   "cell_type": "code",
   "execution_count": 29,
   "metadata": {},
   "outputs": [
    {
     "data": {
      "text/plain": [
       "Power_divergenceResult(statistic=0.2491273197103523, pvalue=0.9999997746996963)"
      ]
     },
     "execution_count": 29,
     "metadata": {},
     "output_type": "execute_result"
    }
   ],
   "source": [
    "chisquare(freq,[f(p,a,b) for p in I])"
   ]
  },
  {
   "cell_type": "markdown",
   "metadata": {},
   "source": [
    "since we have a large p value, it seems like our line of best fit is a good fit for the data."
   ]
  },
  {
   "cell_type": "markdown",
   "metadata": {},
   "source": [
    "## 3"
   ]
  },
  {
   "cell_type": "code",
   "execution_count": 30,
   "metadata": {},
   "outputs": [],
   "source": [
    "pcov = curve_fit(f,I,freq)[1]"
   ]
  },
  {
   "cell_type": "code",
   "execution_count": 31,
   "metadata": {},
   "outputs": [],
   "source": [
    "slope, intercept = np.sqrt(np.diag(pcov))"
   ]
  },
  {
   "cell_type": "code",
   "execution_count": 32,
   "metadata": {},
   "outputs": [
    {
     "name": "stdout",
     "output_type": "stream",
     "text": [
      "The uncertainty in the slope is 0.06178099473717677\n",
      "The uncertainty in the intercept is 0.07310027552079476\n"
     ]
    }
   ],
   "source": [
    "print(\"The uncertainty in the slope is {}\".format(slope))\n",
    "print(\"The uncertainty in the intercept is {}\".format(intercept))"
   ]
  },
  {
   "cell_type": "markdown",
   "metadata": {},
   "source": [
    "## 4"
   ]
  },
  {
   "cell_type": "code",
   "execution_count": 33,
   "metadata": {},
   "outputs": [],
   "source": [
    "slope_weight, int_weight = curve_fit(f,I,freq,sigma=[0.02+0.02*fr for fr in freq])[0]"
   ]
  },
  {
   "cell_type": "code",
   "execution_count": 34,
   "metadata": {},
   "outputs": [
    {
     "name": "stdout",
     "output_type": "stream",
     "text": [
      "The weighted least squares slope is 2.9812850506827213\n",
      "The weighted least squares intercept is 0.09119374230523872\n"
     ]
    }
   ],
   "source": [
    "print(\"The weighted least squares slope is {}\".format(slope_weight))\n",
    "print(\"The weighted least squares intercept is {}\".format(int_weight))"
   ]
  }
 ],
 "metadata": {
  "kernelspec": {
   "display_name": "Python 3",
   "language": "python",
   "name": "python3"
  },
  "language_info": {
   "codemirror_mode": {
    "name": "ipython",
    "version": 3
   },
   "file_extension": ".py",
   "mimetype": "text/x-python",
   "name": "python",
   "nbconvert_exporter": "python",
   "pygments_lexer": "ipython3",
   "version": "3.6.4"
  }
 },
 "nbformat": 4,
 "nbformat_minor": 2
}
