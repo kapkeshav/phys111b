{
 "cells": [
  {
   "cell_type": "code",
   "execution_count": 74,
   "metadata": {},
   "outputs": [],
   "source": [
    "import numpy as np\n",
    "import matplotlib.pyplot as plt\n",
    "from scipy.optimize import least_squares\n",
    "from scipy.stats import linregress\n",
    "from scipy.stats import chisquare"
   ]
  },
  {
   "cell_type": "code",
   "execution_count": 2,
   "metadata": {},
   "outputs": [],
   "source": [
    "r = .01005/1 #Shunt resistance\n",
    "f_85 = np.array([[2.222, 2.221, 2.221, 2.222, 2.2221, 2.2192, 2.2167, 2.2159, 2.2139, 2.2136, 2.2142, 2.2171, 2.2201, 2.2203,\n",
    "         2.2207, 2.2203],[4.233],[3.8427],[3.4219],[3.017],[2.6163],[1.8044],[1.4049],[1.0019],[0.6039, 0.6095],\n",
    "       [0.3951]])\n",
    "f_87 = np.array([[3.3308, 3.334, 3.331, 3.332, 3.3341, 3.3337, 3.3341, 3.3331, 3.3326, 3.3343],[6.343,6.348,6.372],[5.7893],\n",
    "        [5.217,5.154],[4.5442],[3.9303],[2.7101],[2.109],[1.505],[0.8993],[0.5931]])\n",
    "v = np.array([0.01005,0.02006,0.018,0.01601,0.014,0.01201,0.008,0.006,0.004,0.002,0.001])\n",
    "I = v/r"
   ]
  },
  {
   "cell_type": "code",
   "execution_count": 3,
   "metadata": {},
   "outputs": [],
   "source": [
    "I_scat_85 = np.array([[I[j] for _ in i] for j,i in enumerate(f_85)])\n",
    "I_scat_85 = np.concatenate(I_scat_85)\n",
    "I_scat_87 = np.array([[I[j] for _ in i] for j,i in enumerate(f_87)])\n",
    "I_scat_87 = np.concatenate(I_scat_87)\n",
    "f_85_cat = np.concatenate(f_85)\n",
    "f_87_cat = np.concatenate(f_87)"
   ]
  },
  {
   "cell_type": "code",
   "execution_count": 4,
   "metadata": {},
   "outputs": [
    {
     "data": {
      "text/plain": [
       "array([0.66569944, 0.66615958, 0.663759  , 0.65989779, 0.66392324,\n",
       "       0.66567438, 0.66580569, 0.66614509, 0.66571429, 0.67463583,\n",
       "       0.66616085])"
      ]
     },
     "execution_count": 4,
     "metadata": {},
     "output_type": "execute_result"
    }
   ],
   "source": [
    "np.array([np.average(f) for f in f_85])/np.array([np.average(f) for f in f_87])"
   ]
  },
  {
   "cell_type": "code",
   "execution_count": 5,
   "metadata": {},
   "outputs": [],
   "source": [
    "def lin(x,a,b):\n",
    "    return b*x + a"
   ]
  },
  {
   "cell_type": "code",
   "execution_count": 43,
   "metadata": {},
   "outputs": [
    {
     "data": {
      "text/plain": [
       "0.0028731947374244313"
      ]
     },
     "execution_count": 43,
     "metadata": {},
     "output_type": "execute_result"
    }
   ],
   "source": [
    "std = ([np.std(f) for f in f_85][0] + [np.std(f) for f in f_85][-2])/2\n",
    "std\n",
    "one = 1/std**2\n",
    "std"
   ]
  },
  {
   "cell_type": "code",
   "execution_count": 7,
   "metadata": {},
   "outputs": [
    {
     "data": {
      "text/plain": [
       "(3180609.0405244273, 7080429.322768155, 8063582.383600602, 3674743.6783345663)"
      ]
     },
     "execution_count": 7,
     "metadata": {},
     "output_type": "execute_result"
    }
   ],
   "source": [
    "x_b = sum(I_scat_85)/(std**2)\n",
    "y_b = sum(f_85_cat)/(std**2)\n",
    "xy_b = sum(f_85_cat*I_scat_85)/(std**2)\n",
    "x2 = sum((I_scat_85**2))/(std**2)\n",
    "x_b,y_b,xy_b,x2"
   ]
  },
  {
   "cell_type": "code",
   "execution_count": 8,
   "metadata": {},
   "outputs": [
    {
     "data": {
      "text/plain": [
       "(2.2275873678660685, -0.03842981417892729)"
      ]
     },
     "execution_count": 8,
     "metadata": {},
     "output_type": "execute_result"
    }
   ],
   "source": [
    "b = ((1/std**2)*xy_b-x_b*y_b)/((1/std**2)*x2-x_b*x_b)\n",
    "a_int = (x2*y_b-x_b*xy_b)/(x2*(1/std**2)-x_b*x_b)\n",
    "b,a_int"
   ]
  },
  {
   "cell_type": "code",
   "execution_count": 9,
   "metadata": {},
   "outputs": [
    {
     "data": {
      "text/plain": [
       "(0.0001119170482317909, 0.0041098012500430875)"
      ]
     },
     "execution_count": 9,
     "metadata": {},
     "output_type": "execute_result"
    }
   ],
   "source": [
    "xp2 = x2 - x_b**2/(1/std**2)\n",
    "sig_b = 1/np.sqrt(np.abs(xp2))\n",
    "sig_a = np.sqrt(np.abs(1/(1/std**2) + ((x_b/(1/std**2))*sig_b)**2))\n",
    "sig_b,sig_a"
   ]
  },
  {
   "cell_type": "code",
   "execution_count": 10,
   "metadata": {},
   "outputs": [
    {
     "data": {
      "text/plain": [
       "(2.0252417503854505, 0.19535191416357955, 0.002557957059608245)"
      ]
     },
     "execution_count": 10,
     "metadata": {},
     "output_type": "execute_result"
    }
   ],
   "source": [
    "b_1 = linregress(I_scat_85,f_85_cat)[0]\n",
    "a_1 = linregress(I_scat_85,f_85_cat)[1]\n",
    "err_1 = linregress(I_scat_85,f_85_cat)[-1]\n",
    "b_1,a_1,err_1"
   ]
  },
  {
   "cell_type": "code",
   "execution_count": 33,
   "metadata": {},
   "outputs": [
    {
     "data": {
      "text/plain": [
       "(0.40884667571234734, 0.0004396200814111261)"
      ]
     },
     "execution_count": 33,
     "metadata": {},
     "output_type": "execute_result"
    }
   ],
   "source": [
    "N = 135\n",
    "a = .275\n",
    "i = 0.00093/r\n",
    "B_e = .009*N*i/a\n",
    "delta_B = (.009*N/(a*r))*0.000001\n",
    "B_e, delta_B"
   ]
  },
  {
   "cell_type": "code",
   "execution_count": 34,
   "metadata": {},
   "outputs": [
    {
     "data": {
      "text/plain": [
       "(2.5530900586898517, -0.003856168414343174)"
      ]
     },
     "execution_count": 34,
     "metadata": {},
     "output_type": "execute_result"
    }
   ],
   "source": [
    "gamma = 1/(0.009*N/a)\n",
    "I_1 = (2.799/(gamma*b_1) - 1)/2\n",
    "dI_1 = (-2.799*err_1/2)/(gamma*(b_1**2))\n",
    "I_1,dI_1"
   ]
  },
  {
   "cell_type": "code",
   "execution_count": 13,
   "metadata": {},
   "outputs": [
    {
     "data": {
      "text/plain": [
       "(3.051266746079265, 0.28700085168900014, 0.008179453491306032)"
      ]
     },
     "execution_count": 13,
     "metadata": {},
     "output_type": "execute_result"
    }
   ],
   "source": [
    "b_2 = linregress(I_scat_87,f_87_cat)[0]\n",
    "a_2 = linregress(I_scat_87,f_87_cat)[1]\n",
    "err_2 = linregress(I_scat_87,f_87_cat)[-1]\n",
    "b_2,a_2,err_2"
   ]
  },
  {
   "cell_type": "code",
   "execution_count": 35,
   "metadata": {},
   "outputs": [
    {
     "data": {
      "text/plain": [
       "(1.5264519522885482, -0.005432258427556011)"
      ]
     },
     "execution_count": 35,
     "metadata": {},
     "output_type": "execute_result"
    }
   ],
   "source": [
    "gamma = 1/(0.009*N/a)\n",
    "I_2 = ((2.799/(gamma*b_2)) - 1)/2\n",
    "dI_2 = (-2.799*err_2/2)/(gamma*(b_2**2))\n",
    "I_2,dI_2"
   ]
  },
  {
   "cell_type": "code",
   "execution_count": 70,
   "metadata": {},
   "outputs": [
    {
     "data": {
      "image/png": "[encoded data removed]",
      "text/plain": [
       "<Figure size 432x288 with 1 Axes>"
      ]
     },
     "metadata": {},
     "output_type": "display_data"
    }
   ],
   "source": [
    "plt.scatter(I_scat_85, f_85_cat)\n",
    "#plt.plot(I_scat_85,[lin(x,a_int,b) for x in I_scat_85],ls=\"--\")\n",
    "plt.plot(I_scat_85,[lin(x,a_1,b_1) for x in I_scat_85],ls=\"--\")\n",
    "plt.ylabel(\"Frequency (MHz)\")\n",
    "plt.xlabel(\"Current (A)\")\n",
    "plt.title(\"Rb 85\")\n",
    "plt.savefig(\"rb85_1.pdf\")"
   ]
  },
  {
   "cell_type": "code",
   "execution_count": 77,
   "metadata": {},
   "outputs": [
    {
     "data": {
      "text/plain": [
       "Power_divergenceResult(statistic=0.00046850181441535077, pvalue=1.0)"
      ]
     },
     "execution_count": 77,
     "metadata": {},
     "output_type": "execute_result"
    }
   ],
   "source": [
    "chisquare(f_85_cat,[lin(x,a_1,b_1) for x in I_scat_85],ddof=1)"
   ]
  },
  {
   "cell_type": "code",
   "execution_count": 64,
   "metadata": {},
   "outputs": [
    {
     "data": {
      "image/png": "[encoded data removed]",
      "text/plain": [
       "<Figure size 432x288 with 1 Axes>"
      ]
     },
     "metadata": {},
     "output_type": "display_data"
    }
   ],
   "source": [
    "plt.errorbar(x=[i for i,_ in enumerate(I_scat_85)],y=[lin(x,a_1,b_1)-f_85_cat[i] for i,x in enumerate(I_scat_85)],yerr=[0.003 for _ in I_scat_85],ls=\"\",marker=\"o\")\n",
    "plt.ylabel(\"residual\")\n",
    "plt.xlabel(\"data point\")\n",
    "plt.title(\"Rb 85\")\n",
    "plt.savefig(\"rb85_res_1.pdf\")"
   ]
  },
  {
   "cell_type": "code",
   "execution_count": 17,
   "metadata": {},
   "outputs": [],
   "source": [
    "#plt.errorbar(I,[np.average(f) for f in f_85],yerr=[np.std(f) for f in f_85],fmt=\".\",elinewidth=0.2,capsize=0.5)\n",
    "#plt.ylabel(\"Frequency (MHz)\")\n",
    "#plt.xlabel(\"Current (A)\")\n",
    "#plt.title(\"Rb 85\")"
   ]
  },
  {
   "cell_type": "code",
   "execution_count": 67,
   "metadata": {},
   "outputs": [
    {
     "data": {
      "image/png": "[encoded data removed]",
      "text/plain": [
       "<Figure size 432x288 with 1 Axes>"
      ]
     },
     "metadata": {},
     "output_type": "display_data"
    }
   ],
   "source": [
    "plt.scatter(I_scat_87, f_87_cat)\n",
    "plt.plot(I_scat_87,[lin(x,a_2,b_2) for x in I_scat_87],ls=\"--\")\n",
    "plt.ylabel(\"Frequency (MHz)\")\n",
    "plt.xlabel(\"Current (A)\")\n",
    "plt.title(\"Rb 87\")\n",
    "plt.savefig(\"rb87_1.pdf\")"
   ]
  },
  {
   "cell_type": "code",
   "execution_count": 78,
   "metadata": {},
   "outputs": [
    {
     "data": {
      "text/plain": [
       "Power_divergenceResult(statistic=0.0016674121243200675, pvalue=1.0)"
      ]
     },
     "execution_count": 78,
     "metadata": {},
     "output_type": "execute_result"
    }
   ],
   "source": [
    "chisquare(f_87_cat,[lin(x,a_2,b_2) for x in I_scat_87],ddof=1)"
   ]
  },
  {
   "cell_type": "code",
   "execution_count": 19,
   "metadata": {},
   "outputs": [],
   "source": [
    "#plt.errorbar(I,[np.average(f) for f in f_87],yerr=[np.std(f) for f in f_87],fmt=\".\",elinewidth=0.2,capsize=0.5)\n",
    "#plt.ylabel(\"Frequency (MHz)\")\n",
    "#plt.xlabel(\"Current (A)\")\n",
    "#plt.title(\"Rb 87\")"
   ]
  },
  {
   "cell_type": "code",
   "execution_count": 66,
   "metadata": {},
   "outputs": [
    {
     "data": {
      "image/png": "[encoded data removed]",
      "text/plain": [
       "<Figure size 432x288 with 1 Axes>"
      ]
     },
     "metadata": {},
     "output_type": "display_data"
    }
   ],
   "source": [
    "plt.errorbar(x=[i for i,_ in enumerate(I_scat_87)],y=[lin(x,a_2,b_2)-f_87_cat[i] for i,x in enumerate(I_scat_87)],yerr=[0.003 for _ in I_scat_87],ls=\"\",marker=\"o\")\n",
    "plt.ylabel(\"residual\")\n",
    "plt.xlabel(\"data point\")\n",
    "plt.title(\"Rb 87\")\n",
    "plt.savefig(\"rb87_res_1.pdf\")"
   ]
  },
  {
   "cell_type": "markdown",
   "metadata": {},
   "source": [
    "# 2\n",
    "\n",
    "The Lissijous figure appears as a projection of sweeping the magnetic field at a frequency and seeing the response of the pumping at the frequncy of the magnetic field. If the figure was lopsided, if one of the lobes was larger than the other, then we know that it is off-resonance and we have to move the frequency to make the lobes equal. This is tricky since we have to also check thee phase to make sure wee aren't viewing the figure from the wrong angle. We can come up with systematic and statistical errors by taking multiple data points for a given magnetic field and taking data points from different directions (the first addresses the statistical, the second the systematic).   "
   ]
  },
  {
   "cell_type": "code",
   "execution_count": 50,
   "metadata": {},
   "outputs": [],
   "source": [
    "#opposite polarity\n",
    "f_85_op = np.array([1.8362,1.4271,1.0253,0.6216,0.221])\n",
    "f_87_op = [2.7502,2.1385,1.537,0.9312,0.331]\n",
    "v = np.array([0.01,0.008,0.006,0.004,0.002])\n",
    "I = v/r"
   ]
  },
  {
   "cell_type": "code",
   "execution_count": 51,
   "metadata": {},
   "outputs": [
    {
     "data": {
      "text/plain": [
       "(0.6663031774133671, 0.0028603388547247923)"
      ]
     },
     "execution_count": 51,
     "metadata": {},
     "output_type": "execute_result"
    }
   ],
   "source": [
    "ratios = np.concatenate([np.array([np.average(f) for f in f_85])/np.array([np.average(f) for f in f_87]),f_85_op/f_87_op])\n",
    "np.average(ratios),np.std(ratios)"
   ]
  },
  {
   "cell_type": "code",
   "execution_count": 52,
   "metadata": {},
   "outputs": [
    {
     "data": {
      "text/plain": [
       "(2.02803975, -0.18453000000000008, 0.004197304023093722)"
      ]
     },
     "execution_count": 52,
     "metadata": {},
     "output_type": "execute_result"
    }
   ],
   "source": [
    "b_3 = linregress(I,f_85_op)[0]\n",
    "a_3 = linregress(I,f_85_op)[1]\n",
    "err_3 = linregress(I,f_85_op)[-1]\n",
    "b_3,a_3,err_3"
   ]
  },
  {
   "cell_type": "code",
   "execution_count": 53,
   "metadata": {},
   "outputs": [
    {
     "data": {
      "text/plain": [
       "(3.0379642499999995, -0.27613, 0.005473868222092349)"
      ]
     },
     "execution_count": 53,
     "metadata": {},
     "output_type": "execute_result"
    }
   ],
   "source": [
    "b_4 = linregress(I,f_87_op)[0]\n",
    "a_4 = linregress(I,f_87_op)[1]\n",
    "err_4 = linregress(I,f_87_op)[-1]\n",
    "b_4,a_4,err_4"
   ]
  },
  {
   "cell_type": "code",
   "execution_count": 69,
   "metadata": {},
   "outputs": [
    {
     "data": {
      "image/png": "[encoded data removed]",
      "text/plain": [
       "<Figure size 432x288 with 1 Axes>"
      ]
     },
     "metadata": {},
     "output_type": "display_data"
    }
   ],
   "source": [
    "plt.scatter(I, f_85_op)\n",
    "#plt.plot(I_scat_85,[lin(x,a,b) for x in I_scat_85],ls=\"--\")\n",
    "plt.plot(I,[lin(x,a_3,b_3) for x in I],ls=\"--\")\n",
    "plt.ylabel(\"Frequency (MHz)\")\n",
    "plt.xlabel(\"Current (A)\")\n",
    "plt.title(\"Rb 85\")\n",
    "plt.savefig(\"rb85_2.pdf\")"
   ]
  },
  {
   "cell_type": "code",
   "execution_count": 79,
   "metadata": {},
   "outputs": [
    {
     "data": {
      "text/plain": [
       "Power_divergenceResult(statistic=2.9240075419620864e-05, pvalue=0.9999999579483801)"
      ]
     },
     "execution_count": 79,
     "metadata": {},
     "output_type": "execute_result"
    }
   ],
   "source": [
    "chisquare(f_85_op,[lin(x,a_3,b_3) for x in I],ddof=1)"
   ]
  },
  {
   "cell_type": "code",
   "execution_count": 71,
   "metadata": {
    "scrolled": true
   },
   "outputs": [
    {
     "data": {
      "image/png": "[encoded data removed]",
      "text/plain": [
       "<Figure size 432x288 with 1 Axes>"
      ]
     },
     "metadata": {},
     "output_type": "display_data"
    }
   ],
   "source": [
    "plt.scatter(I, f_87_op)\n",
    "#plt.plot(I_scat_85,[lin(x,a,b) for x in I_scat_85],ls=\"--\")\n",
    "plt.plot(I,[lin(x,a_4,b_4) for x in I],ls=\"--\")\n",
    "plt.ylabel(\"Frequency (MHz)\")\n",
    "plt.xlabel(\"Current (A)\")\n",
    "plt.title(\"Rb 87\")\n",
    "plt.savefig(\"rb87_2.pdf\")"
   ]
  },
  {
   "cell_type": "code",
   "execution_count": 80,
   "metadata": {},
   "outputs": [
    {
     "data": {
      "text/plain": [
       "Power_divergenceResult(statistic=3.431208915845327e-05, pvalue=0.9999999465454006)"
      ]
     },
     "execution_count": 80,
     "metadata": {},
     "output_type": "execute_result"
    }
   ],
   "source": [
    "chisquare(f_87_op,[lin(x,a_4,b_4) for x in I],ddof=1)"
   ]
  },
  {
   "cell_type": "code",
   "execution_count": 72,
   "metadata": {},
   "outputs": [
    {
     "data": {
      "image/png": "[encoded data removed]",
      "text/plain": [
       "<Figure size 432x288 with 1 Axes>"
      ]
     },
     "metadata": {},
     "output_type": "display_data"
    }
   ],
   "source": [
    "plt.errorbar(x=np.array([i for i,_ in enumerate(I)]),y=np.array([lin(x,a_3,b_3)-f_85_op[i] for i,x in enumerate(I)]),yerr=np.array([0.003 for _ in I]),ls=\"\",marker=\"o\")\n",
    "plt.ylabel(\"residual\")\n",
    "plt.xlabel(\"data point\")\n",
    "plt.title(\"Rb 85\")\n",
    "plt.savefig(\"rb85_res_2.pdf\")"
   ]
  },
  {
   "cell_type": "code",
   "execution_count": 73,
   "metadata": {},
   "outputs": [
    {
     "data": {
      "image/png": "[encoded data removed]",
      "text/plain": [
       "<Figure size 432x288 with 1 Axes>"
      ]
     },
     "metadata": {},
     "output_type": "display_data"
    }
   ],
   "source": [
    "plt.errorbar(x=np.array([i for i,_ in enumerate(I)]),y=np.array([lin(x,a_4,b_4)-f_87_op[i] for i,x in enumerate(I)]),yerr=np.array([0.003 for _ in I]),ls=\"\",marker=\"o\")\n",
    "plt.ylabel(\"residual\")\n",
    "plt.xlabel(\"data point\")\n",
    "plt.title(\"Rb 85\")\n",
    "plt.savefig(\"rb87_res_2.pdf\")"
   ]
  },
  {
   "cell_type": "code",
   "execution_count": 36,
   "metadata": {},
   "outputs": [
    {
     "data": {
      "text/plain": [
       "(2.5488778410509227, -0.006310067259857377)"
      ]
     },
     "execution_count": 36,
     "metadata": {},
     "output_type": "execute_result"
    }
   ],
   "source": [
    "I_3 = ((2.799/(gamma*b_3)) - 1)/2\n",
    "dI_3 = (-2.799*err_3/2)/(gamma*(b_3**2))\n",
    "I_3,dI_3"
   ]
  },
  {
   "cell_type": "code",
   "execution_count": 37,
   "metadata": {},
   "outputs": [
    {
     "data": {
      "text/plain": [
       "(1.5353252855248227, -0.003667292135532985)"
      ]
     },
     "execution_count": 37,
     "metadata": {},
     "output_type": "execute_result"
    }
   ],
   "source": [
    "I_4 = ((2.799/(gamma*b_4)) - 1)/2\n",
    "dI_4 = (-2.799*err_4/2)/(gamma*(b_4**2))\n",
    "I_4,dI_4"
   ]
  },
  {
   "cell_type": "code",
   "execution_count": 38,
   "metadata": {},
   "outputs": [
    {
     "data": {
      "text/plain": [
       "(0.42617148058510756,\n",
       " 0.41557230168892495,\n",
       " -0.40200745123910475,\n",
       " -0.4015822587295243)"
      ]
     },
     "execution_count": 38,
     "metadata": {},
     "output_type": "execute_result"
    }
   ],
   "source": [
    "B_1 = (2*I_1+1)*a_1/2.799\n",
    "B_2 = (2*I_2+1)*a_2/2.799\n",
    "B_3 = (2*I_3+1)*a_3/2.799\n",
    "B_4 = (2*I_4+1)*a_4/2.799\n",
    "B_1,B_2,B_3,B_4"
   ]
  },
  {
   "cell_type": "code",
   "execution_count": 40,
   "metadata": {},
   "outputs": [
    {
     "data": {
      "text/plain": [
       "(0.005042060298796987,\n",
       " 0.010729693962706085,\n",
       " 0.00997603711298737,\n",
       " 0.008684352825609207)"
      ]
     },
     "execution_count": 40,
     "metadata": {},
     "output_type": "execute_result"
    }
   ],
   "source": [
    "dB_1 = 2*a_1/2.799 * dI_1 + (2*I_1+1)/2.799 * err_1\n",
    "dB_2 = 2*a_2/2.799 * dI_2 + (2*I_2+1)/2.799 * err_2\n",
    "dB_3 = 2*a_3/2.799 * dI_3 + (2*I_3+1)/2.799 * err_3\n",
    "dB_4 = 2*a_4/2.799 * dI_4 + (2*I_4+1)/2.799 * err_4\n",
    "dB_1,dB_2,dB_3,dB_4"
   ]
  },
  {
   "cell_type": "code",
   "execution_count": 42,
   "metadata": {},
   "outputs": [
    {
     "data": {
      "text/plain": [
       "(16.121327366252345, 0.020563363832740798)"
      ]
     },
     "execution_count": 42,
     "metadata": {},
     "output_type": "execute_result"
    }
   ],
   "source": [
    "zv = 0.08\n",
    "zi = zv/r\n",
    "f_zf = (2.799/(2*I_1+1))*(.009*N*zi/a)\n",
    "df_zf = -2*(2.799/(2*I_1+1)**2)*(.009*N*zi/a)*dI_1 + (2.799/(2*I_1+1))*(.009*N/(r*a))*.000001\n",
    "f_zf,df_zf"
   ]
  },
  {
   "cell_type": "code",
   "execution_count": 82,
   "metadata": {},
   "outputs": [
    {
     "data": {
      "text/plain": [
       "(9.234533918138007,\n",
       " 0.013241114180186973,\n",
       " 8.81877883310719,\n",
       " 0.00043962008141112605)"
      ]
     },
     "execution_count": 82,
     "metadata": {},
     "output_type": "execute_result"
    }
   ],
   "source": [
    "B_pos = (2*I_2+1)*4.233/2.799\n",
    "dB_pos = np.sqrt((2*4.233*dI_2/2.799)**2 + ((2*I_2+1)*std/2.799)**2)\n",
    "B_pos_i = 0.009*N*(0.02006/r)/a\n",
    "dB_pos_i = (0.009*N*(1/r)/a)*0.000001\n",
    "B_pos,dB_pos,B_pos_i,dB_pos_i"
   ]
  },
  {
   "cell_type": "code",
   "execution_count": 83,
   "metadata": {},
   "outputs": [
    {
     "data": {
      "text/plain": [
       "(3.1133010523446143,\n",
       " 0.007399368903404505,\n",
       " 3.5169606512890086,\n",
       " 0.00043962008141112605)"
      ]
     },
     "execution_count": 83,
     "metadata": {},
     "output_type": "execute_result"
    }
   ],
   "source": [
    "B_pos = (2*I_1+1)*1.4271/2.799\n",
    "dB_pos = np.sqrt((2*1.4271*dI_1/2.799)**2 + ((2*I_1+1)*std/2.799)**2)\n",
    "B_pos_i = 0.009*N*(0.008/r)/a\n",
    "dB_pos_i = (0.009*N*(1/r)/a)*0.000001\n",
    "B_pos,dB_pos,B_pos_i,dB_pos_i"
   ]
  }
 ],
 "metadata": {
  "kernelspec": {
   "display_name": "Python 3",
   "language": "python",
   "name": "python3"
  },
  "language_info": {
   "codemirror_mode": {
    "name": "ipython",
    "version": 3
   },
   "file_extension": ".py",
   "mimetype": "text/x-python",
   "name": "python",
   "nbconvert_exporter": "python",
   "pygments_lexer": "ipython3",
   "version": "3.6.4"
  }
 },
 "nbformat": 4,
 "nbformat_minor": 2
}
