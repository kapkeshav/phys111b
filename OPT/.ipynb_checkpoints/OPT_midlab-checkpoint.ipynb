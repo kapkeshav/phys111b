{
 "cells": [
  {
   "cell_type": "code",
   "execution_count": 1,
   "metadata": {},
   "outputs": [],
   "source": [
    "import numpy as np\n",
    "import matplotlib.pyplot as plt"
   ]
  },
  {
   "cell_type": "code",
   "execution_count": 2,
   "metadata": {},
   "outputs": [],
   "source": [
    "r = .01005/1 #Shunt resistance\n",
    "f_85 = [[2.222, 2.221, 2.221, 2.222, 2.2221, 2.2192, 2.2167, 2.2159, 2.2139, 2.2136, 2.2142, 2.2171, 2.2201, 2.2203,\n",
    "         2.2207, 2.2203],[4.233],[3.8427],[3.4219],[3.017],[2.6163],[1.8044],[1.4049],[1.0019],[0.6039, 0.6095],\n",
    "       [0.3951]]\n",
    "f_87 = [[3.3308, 3.334, 3.331, 3.332, 3.3341, 3.3337, 3.3341, 3.3331, 3.3326, 3.3343],[6.343,6.348,6.372],[5.7893],\n",
    "        [5.217,5.154],[4.5442],[3.9303],[2.7101],[2.109],[1.505],[0.8993],[0.5931]]\n",
    "v = np.array([0.01005,0.02006,0.018,0.01601,0.014,0.01201,0.008,0.006,0.004,0.002,0.001])\n",
    "I = v/r"
   ]
  },
  {
   "cell_type": "code",
   "execution_count": 15,
   "metadata": {},
   "outputs": [
    {
     "data": {
      "text/plain": [
       "Text(0.5,1,'Rb 85')"
      ]
     },
     "execution_count": 15,
     "metadata": {},
     "output_type": "execute_result"
    },
    {
     "data": {
      "image/png": "[encoded data removed]",
      "text/plain": [
       "<Figure size 432x288 with 1 Axes>"
      ]
     },
     "metadata": {},
     "output_type": "display_data"
    }
   ],
   "source": [
    "plt.errorbar(I,[np.average(f) for f in f_85],yerr=[np.std(f) for f in f_85],fmt=\".\",elinewidth=0.2,capsize=0.5)\n",
    "plt.ylabel(\"Frequency (MHz)\")\n",
    "plt.xlabel(\"Current (A)\")\n",
    "plt.title(\"Rb 85\")"
   ]
  },
  {
   "cell_type": "code",
   "execution_count": 17,
   "metadata": {},
   "outputs": [
    {
     "data": {
      "text/plain": [
       "Text(0.5,1,'Rb 87')"
      ]
     },
     "execution_count": 17,
     "metadata": {},
     "output_type": "execute_result"
    },
    {
     "data": {
      "image/png": "[encoded data removed]",
      "text/plain": [
       "<Figure size 432x288 with 1 Axes>"
      ]
     },
     "metadata": {},
     "output_type": "display_data"
    }
   ],
   "source": [
    "plt.errorbar(I,[np.average(f) for f in f_87],yerr=[np.std(f) for f in f_87],fmt=\".\",elinewidth=0.2,capsize=0.5)\n",
    "plt.ylabel(\"Frequency (MHz)\")\n",
    "plt.xlabel(\"Current (A)\")\n",
    "plt.title(\"Rb 87\")"
   ]
  },
  {
   "cell_type": "code",
   "execution_count": 18,
   "metadata": {},
   "outputs": [
    {
     "data": {
      "text/plain": [
       "-0.012945272727272724"
      ]
     },
     "execution_count": 18,
     "metadata": {},
     "output_type": "execute_result"
    }
   ],
   "source": [
    "N = 135\n",
    "a = .275\n",
    "B_e = .009*N*-0.00293/a\n",
    "B_e"
   ]
  },
  {
   "cell_type": "markdown",
   "metadata": {},
   "source": [
    "# 2\n",
    "\n",
    "The Lissijous figure appears as a projection of sweeping "
   ]
  }
 ],
 "metadata": {
  "kernelspec": {
   "display_name": "Python 3",
   "language": "python",
   "name": "python3"
  },
  "language_info": {
   "codemirror_mode": {
    "name": "ipython",
    "version": 3
   },
   "file_extension": ".py",
   "mimetype": "text/x-python",
   "name": "python",
   "nbconvert_exporter": "python",
   "pygments_lexer": "ipython3",
   "version": "3.6.4"
  }
 },
 "nbformat": 4,
 "nbformat_minor": 2
}
